{
 "cells": [
  {
   "metadata": {},
   "cell_type": "markdown",
   "source": "### Lecture 5",
   "id": "865ba76074f9521e"
  },
  {
   "metadata": {},
   "cell_type": "markdown",
   "source": "",
   "id": "61acccc3e1450a62"
  }
 ],
 "metadata": {
  "kernelspec": {
   "display_name": "Python 3",
   "language": "python",
   "name": "python3"
  },
  "language_info": {
   "codemirror_mode": {
    "name": "ipython",
    "version": 2
   },
   "file_extension": ".py",
   "mimetype": "text/x-python",
   "name": "python",
   "nbconvert_exporter": "python",
   "pygments_lexer": "ipython2",
   "version": "2.7.6"
  }
 },
 "nbformat": 4,
 "nbformat_minor": 5
}
